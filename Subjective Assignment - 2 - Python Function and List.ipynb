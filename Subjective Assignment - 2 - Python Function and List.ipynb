{
 "cells": [
  {
   "cell_type": "markdown",
   "metadata": {},
   "source": [
    "# Assignments"
   ]
  },
  {
   "cell_type": "markdown",
   "metadata": {},
   "source": [
    "Q1. Write the Python function to get a string made of 4 copies of the last\n",
    "two characters of the specified string (length must be at least 2).\n",
    "\n",
    "    Sample function and result :\n",
    "    insert-end ('Python') -> abababab\n",
    "    insert-end('Exercises') -> jkjkjkjk"
   ]
  },
  {
   "cell_type": "code",
   "execution_count": 1,
   "metadata": {},
   "outputs": [
    {
     "name": "stdout",
     "output_type": "stream",
     "text": [
      "onononon\n",
      "eseseses\n"
     ]
    }
   ],
   "source": [
    "def insert_end(str):\n",
    "    sub_str = str[-2:]\n",
    "    return sub_str * 4\n",
    "\n",
    "print(insert_end('Python'))\n",
    "print(insert_end('Exercises'))"
   ]
  },
  {
   "cell_type": "markdown",
   "metadata": {},
   "source": [
    "Q2. Write the python function to get a string made of its first three\n",
    "characters of a specified string. If the length of the string is less than 3\n",
    "then return the original string.\n",
    "    \n",
    "    Sample function and result :\n",
    "    first-three('ipy') -> ipy\n",
    "    first-three('python') -> pyt"
   ]
  },
  {
   "cell_type": "code",
   "execution_count": 2,
   "metadata": {},
   "outputs": [],
   "source": [
    "def first_three(inString=None):\n",
    "    print(f\"input string: {inString}\")\n",
    "    if len(inString) <= 3:\n",
    "        return inString\n",
    "    return inString[:3]\n"
   ]
  },
  {
   "cell_type": "code",
   "execution_count": 3,
   "metadata": {},
   "outputs": [
    {
     "name": "stdout",
     "output_type": "stream",
     "text": [
      "input string: ipy\n",
      "result1: ipy\n",
      "\n",
      "input string: python\n",
      "result2: pyt\n",
      "\n",
      "input string: Sunny\n",
      "result3: Sun\n",
      "\n",
      "input string: Jet\n"
     ]
    }
   ],
   "source": [
    "result1 = first_three(\"ipy\")\n",
    "print(f\"result1: {result1}\\n\")\n",
    "result2 = first_three(\"python\")\n",
    "print(f\"result2: {result2}\\n\")\n",
    "result3 = first_three(\"Sunny\")\n",
    "print(f\"result3: {result3}\\n\")\n",
    "result4 = first_three(\"Jet\")"
   ]
  },
  {
   "cell_type": "markdown",
   "metadata": {},
   "source": [
    "Q3. Write the Python program to find smallest window that contains all\n",
    "characters of the given string?\n",
    "\n",
    "    Original Strings:\n",
    "    asdaewsqgtwwsa\n",
    "    Smallest window that contains all characters of the said string:\n",
    "    Daewsqgt"
   ]
  },
  {
   "cell_type": "code",
   "execution_count": 4,
   "metadata": {},
   "outputs": [
    {
     "data": {
      "text/plain": [
       "'daewsqgt'"
      ]
     },
     "execution_count": 4,
     "metadata": {},
     "output_type": "execute_result"
    }
   ],
   "source": [
    "def find_smallest_win(sampleString=None):\n",
    "    unique_char = set(sampleString)\n",
    "    k = len(unique_char) # window of the string\n",
    "    n = len(sampleString) # len of the sample string\n",
    "    for idx in range(n-k+1):\n",
    "        # iterate in chunks with moving window length k\n",
    "        chunk = str1[idx: idx + k]\n",
    "        # return when chunk has the exact substring of uniqu chars\n",
    "        if sorted(list(chunk)) == sorted(list(unique_char)): \n",
    "            return str1[idx: idx + k]\n",
    "        \n",
    "str1= 'asdaewsqgtwwsa'\n",
    "find_smallest_win(sampleString = str1)\n"
   ]
  },
  {
   "cell_type": "markdown",
   "metadata": {},
   "source": [
    "Q4. Write the Python program to count number of substrings from a\n",
    "given string of lowercase alphabets with exactly k distinct (given)\n",
    "characters?\n",
    "\n",
    "    Input a string (lowercase alphabets): wolf\n",
    "    Input k: 4\n",
    "    Number of substrings with exactly 4 distinct characters: 1"
   ]
  },
  {
   "cell_type": "code",
   "execution_count": 5,
   "metadata": {},
   "outputs": [
    {
     "name": "stdout",
     "output_type": "stream",
     "text": [
      "Input a string: wolf\n",
      "enter k: 4\n",
      "Number of substrings with exactly 4 distinct characters: 1\n"
     ]
    }
   ],
   "source": [
    "def get_subtring_count(inString=None, window=None):\n",
    "    n = len(inString) \n",
    "    # check if non integer values is given for window\n",
    "    if (window is None):\n",
    "        k = n # default case = lenth of input string\n",
    "    else:\n",
    "        k = int(window)\n",
    "    inString = inString.lower()\n",
    "    return len([inString[i:i+k] for i in range(n-k+1)])\n",
    "\n",
    "testInput = input(\"Input a string: \")\n",
    "num = int(input(\"enter k: \"))\n",
    "\n",
    "result = get_subtring_count(inString=testInput, window=num)\n",
    "\n",
    "print(f\"Number of substrings with exactly {num} distinct characters: {result}\")"
   ]
  },
  {
   "cell_type": "markdown",
   "metadata": {},
   "source": [
    "Q5. Write the Python program to count number of non-empty\n",
    "substrings of the given string?\n",
    "\n",
    "    Input a string: w3resource\n",
    "    Number of substrings:\n",
    "    55"
   ]
  },
  {
   "cell_type": "code",
   "execution_count": 6,
   "metadata": {},
   "outputs": [
    {
     "name": "stdout",
     "output_type": "stream",
     "text": [
      "55\n"
     ]
    }
   ],
   "source": [
    "inString = 'w3resource'\n",
    "\n",
    "count = 0\n",
    "for i,_ in enumerate(inString):\n",
    "    for j,_ in enumerate(inString):\n",
    "        chunk = inString[i:j+1] \n",
    "        if len(chunk) >= 1:\n",
    "            count += 1\n",
    "\n",
    "print(count)"
   ]
  },
  {
   "cell_type": "markdown",
   "metadata": {},
   "source": [
    "Q6. Write the Python program to count the number of strings where the\n",
    "string length is 2 or more, and first and last character are same\n",
    "from a given list of strings.\n",
    "\n",
    "    Sample List : ['abc', 'xyz', 'wxw', '1331']\n",
    "    Expected Result: 2"
   ]
  },
  {
   "cell_type": "code",
   "execution_count": 7,
   "metadata": {},
   "outputs": [
    {
     "name": "stdout",
     "output_type": "stream",
     "text": [
      "2\n"
     ]
    }
   ],
   "source": [
    "sampleList = ['abc', 'xyz', 'wxw', '1331']\n",
    "\n",
    "count = 0\n",
    "for word in sampleList:\n",
    "    if (len(word) > 2) and (word[0] == word[-1]):\n",
    "        count += 1 \n",
    "\n",
    "print(count)"
   ]
  },
  {
   "cell_type": "markdown",
   "metadata": {},
   "source": [
    "Q7. Write the Python program to get a list, sorted in increasing order by\n",
    "the last element in each tuple from the given list of non-empty\n",
    "tuples?\n",
    "\n",
    "    Sample List - [ (2, 5), (1, 2), (4, 4), (2, 3), (2, 1) ]\n",
    "    Expected Result - [ (2, 1), (1, 2), (2, 3), (4, 4), (2, 5) ]"
   ]
  },
  {
   "cell_type": "code",
   "execution_count": 8,
   "metadata": {},
   "outputs": [
    {
     "name": "stdout",
     "output_type": "stream",
     "text": [
      "Original list: [(2, 5), (1, 2), (4, 4), (2, 3), (2, 1)]\n",
      "Sorted by 2nd element: [(2, 1), (1, 2), (2, 3), (4, 4), (2, 5)]\n"
     ]
    }
   ],
   "source": [
    "def sort_by_2nd_index(inList):\n",
    "    print(f\"Original list: {inList}\")\n",
    "    # place holder empty lists\n",
    "    original_1 = list()\n",
    "    original_2 = list()\n",
    "\n",
    "    # enumerate over list of tuples to \n",
    "    # unzip and put them in separate lists\n",
    "    for _,(j,k) in enumerate(inList):\n",
    "        original_1.append(j)\n",
    "        original_2.append(k)\n",
    "    # sort the second array\n",
    "    sort_2nd = sorted(original_2)\n",
    "    # store and return the original array1 values as per the sorted \n",
    "    # seconda array\n",
    "    return ([(original_1[original_2.index(p)], p) for p in sort_2nd])\n",
    "result = sort_by_2nd_index([ (2, 5), (1, 2), (4, 4), (2, 3), (2, 1) ])\n",
    "print(f\"Sorted by 2nd element: {result}\")"
   ]
  },
  {
   "cell_type": "markdown",
   "metadata": {},
   "source": [
    "Q8. Write the Python program to remove duplicates from a list?"
   ]
  },
  {
   "cell_type": "code",
   "execution_count": 9,
   "metadata": {},
   "outputs": [
    {
     "data": {
      "text/plain": [
       "['Yellow', 'Black', 'Red', 'White']"
      ]
     },
     "execution_count": 9,
     "metadata": {},
     "output_type": "execute_result"
    }
   ],
   "source": [
    "def getUnique(inList):\n",
    "    return list(set(inList))\n",
    "SampleList = ['Red', 'Red', 'White', 'Black', 'Black', 'Yellow']\n",
    "getUnique(SampleList)"
   ]
  },
  {
   "cell_type": "markdown",
   "metadata": {},
   "source": [
    "Q9. Write the Python program to find the list of words that are longer\n",
    "than n from a given list of words?"
   ]
  },
  {
   "cell_type": "code",
   "execution_count": 10,
   "metadata": {},
   "outputs": [
    {
     "data": {
      "text/plain": [
       "['Green', 'White', 'Black', 'Yellow']"
      ]
     },
     "execution_count": 10,
     "metadata": {},
     "output_type": "execute_result"
    }
   ],
   "source": [
    "def getLongerThanN(inList, N):\n",
    "    return [word for word in inList if len(word) > N]\n",
    "SampleList = ['Red', 'Green', 'White', 'Black', 'Pink', 'Yellow']\n",
    "getLongerThanN(SampleList, 4)"
   ]
  },
  {
   "cell_type": "markdown",
   "metadata": {},
   "source": [
    "Q10. Write the Python program to print a specified list after removing the\n",
    "0th, 4th, and 5th elements?\n",
    "    \n",
    "    Sample List - ['Red', 'Green', 'White', 'Black', 'Pink', 'Yellow']\n",
    "    Expected Output - ['Green', 'White', 'Black']"
   ]
  },
  {
   "cell_type": "code",
   "execution_count": 11,
   "metadata": {},
   "outputs": [
    {
     "data": {
      "text/plain": [
       "['Green', 'White', 'Black']"
      ]
     },
     "execution_count": 11,
     "metadata": {},
     "output_type": "execute_result"
    }
   ],
   "source": [
    "def get_045_elements(inList):\n",
    "    inList.pop(5)\n",
    "    inList.pop(4)\n",
    "    inList.pop(0)\n",
    "    return inList\n",
    "SampleList = ['Red', 'Green', 'White', 'Black', 'Pink', 'Yellow']\n",
    "get_045_elements(SampleList)"
   ]
  },
  {
   "cell_type": "markdown",
   "metadata": {},
   "source": [
    "Q11. Write the Python program to generate all permutations of a list in\n",
    "Python?"
   ]
  },
  {
   "cell_type": "code",
   "execution_count": 13,
   "metadata": {},
   "outputs": [
    {
     "data": {
      "text/plain": [
       "[('a', 'b', 'c'),\n",
       " ('a', 'c', 'b'),\n",
       " ('b', 'a', 'c'),\n",
       " ('b', 'c', 'a'),\n",
       " ('c', 'a', 'b'),\n",
       " ('c', 'b', 'a')]"
      ]
     },
     "execution_count": 13,
     "metadata": {},
     "output_type": "execute_result"
    }
   ],
   "source": [
    "from itertools import permutations, combinations\n",
    "lst = list('abc')\n",
    "list(permutations(lst))\n"
   ]
  },
  {
   "cell_type": "code",
   "execution_count": 14,
   "metadata": {},
   "outputs": [
    {
     "data": {
      "text/plain": [
       "[('a', 'b', 'c')]"
      ]
     },
     "execution_count": 14,
     "metadata": {},
     "output_type": "execute_result"
    }
   ],
   "source": [
    "list(combinations(lst, r=len(lst)))"
   ]
  },
  {
   "cell_type": "markdown",
   "metadata": {},
   "source": [
    "Q12. Write the Python program to convert a pair of values into a sorted\n",
    "unique array?\n",
    " \n",
    "    Original List- [ (1, 2), (3, 4), (1, 2), (5, 6), (7, 8), (1, 2), (3, 4), (3, 4), (7, 8), (9, 10) ]\n",
    "    Sorted Unique Data- [ 1, 2, 3, 4, 5, 6, 7, 8, 9, 10 ] \n"
   ]
  },
  {
   "cell_type": "code",
   "execution_count": 15,
   "metadata": {},
   "outputs": [
    {
     "name": "stdout",
     "output_type": "stream",
     "text": [
      "[1, 2, 3, 4, 5, 6, 7, 8, 9, 10]\n"
     ]
    }
   ],
   "source": [
    "def keep_it_unique(inList=None):\n",
    "    \"\"\"\n",
    "    returns unique list out of list of tuples \n",
    "    in a sorted order\n",
    "    \"\"\"\n",
    "    result = list() # to store the final results\n",
    "    # iterate over the list of tuples and extend \n",
    "    # result list\n",
    "    for i, j in inList:\n",
    "        result += [i,j]\n",
    "\n",
    "    return sorted(list(set(result)))\n",
    "originalList = [ (3, 4), (1, 2), (1, 2), (5, 6), (7, 8), (1, 2), (3, 4), (3, 4), (7, 8), (9, 10) ]\n",
    "result = keep_it_unique(inList=originalList)\n",
    "print(result)"
   ]
  },
  {
   "cell_type": "markdown",
   "metadata": {},
   "source": [
    "## Great job!"
   ]
  }
 ],
 "metadata": {
  "kernelspec": {
   "display_name": "Python 3",
   "language": "python",
   "name": "python3"
  },
  "language_info": {
   "codemirror_mode": {
    "name": "ipython",
    "version": 3
   },
   "file_extension": ".py",
   "mimetype": "text/x-python",
   "name": "python",
   "nbconvert_exporter": "python",
   "pygments_lexer": "ipython3",
   "version": "3.7.6"
  }
 },
 "nbformat": 4,
 "nbformat_minor": 2
}
